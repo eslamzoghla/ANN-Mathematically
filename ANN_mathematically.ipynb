{
  "cells": [
    {
      "cell_type": "code",
      "execution_count": 1,
      "metadata": {
        "id": "SoCDru4k-gUO"
      },
      "outputs": [],
      "source": [
        "import numpy as np"
      ]
    },
    {
      "cell_type": "markdown",
      "metadata": {
        "id": "6nJN39kZ-lSO"
      },
      "source": [
        "\n",
        "## Activation function (Sigmoid)"
      ]
    },
    {
      "cell_type": "code",
      "execution_count": 2,
      "metadata": {
        "id": "cY8Bd8AP-iZ7"
      },
      "outputs": [],
      "source": [
        "# Activation function (Sigmoid)\n",
        "def sigmoid(x):\n",
        "    return 1 / (1 + np.exp(-x))\n",
        "\n",
        "# Derivative of the sigmoid function for backpropagation\n",
        "def sigmoid_derivative(x):\n",
        "    return x * (1 - x)"
      ]
    },
    {
      "cell_type": "markdown",
      "metadata": {
        "id": "cKA9NeKX-4of"
      },
      "source": [
        "## Build ANN Model"
      ]
    },
    {
      "cell_type": "code",
      "execution_count": 3,
      "metadata": {
        "id": "v_MRXb85-siD"
      },
      "outputs": [],
      "source": [
        "input_layer_neurons = 2\n",
        "hidden_layer1_neurons = 4\n",
        "hidden_layer2_neurons = 4\n",
        "output_neurons = 1\n",
        "\n",
        "# Random weight and bias initialization\n",
        "np.random.seed(42)\n",
        "weights_input_hidden1 = np.random.uniform(size=(input_layer_neurons, hidden_layer1_neurons))\n",
        "bias_hidden1 = np.random.uniform(size=(1, hidden_layer1_neurons))\n",
        "weights_hidden1_hidden2 = np.random.uniform(size=(hidden_layer1_neurons, hidden_layer2_neurons))\n",
        "bias_hidden2 = np.random.uniform(size=(1, hidden_layer2_neurons))\n",
        "weights_hidden2_output = np.random.uniform(size=(hidden_layer2_neurons, output_neurons))\n",
        "bias_output = np.random.uniform(size=(1, output_neurons))"
      ]
    },
    {
      "cell_type": "code",
      "execution_count": 4,
      "metadata": {
        "colab": {
          "base_uri": "https://localhost:8080/"
        },
        "id": "FF_Hw3qcHRdm",
        "outputId": "b05977cf-c4d0-455b-ca64-e2c5c546f1e7"
      },
      "outputs": [
        {
          "data": {
            "text/plain": [
              "array([[0.37454012, 0.95071431, 0.73199394, 0.59865848],\n",
              "       [0.15601864, 0.15599452, 0.05808361, 0.86617615]])"
            ]
          },
          "execution_count": 4,
          "metadata": {},
          "output_type": "execute_result"
        }
      ],
      "source": [
        "weights_input_hidden1"
      ]
    },
    {
      "cell_type": "code",
      "execution_count": 5,
      "metadata": {
        "id": "qvRt-euQ_Jt4"
      },
      "outputs": [],
      "source": [
        "# Training the neural network\n",
        "def train(X, y, epochs, learning_rate):\n",
        "    global weights_input_hidden1, bias_hidden1, weights_hidden1_hidden2, bias_hidden2, weights_hidden2_output, bias_output\n",
        "    for _ in range(epochs):\n",
        "        # Forward propagation\n",
        "        hidden_layer1_input = np.dot(X, weights_input_hidden1) + bias_hidden1\n",
        "        hidden_layer1_output = sigmoid(hidden_layer1_input)\n",
        "\n",
        "        hidden_layer2_input = np.dot(hidden_layer1_output, weights_hidden1_hidden2) + bias_hidden2\n",
        "        hidden_layer2_output = sigmoid(hidden_layer2_input)\n",
        "\n",
        "        output_layer_input = np.dot(hidden_layer2_output, weights_hidden2_output) + bias_output\n",
        "        output = sigmoid(output_layer_input)\n",
        "\n",
        "        # Calculate error\n",
        "        error = y - output\n",
        "\n",
        "        # Backpropagation\n",
        "        d_output = error * sigmoid_derivative(output)\n",
        "\n",
        "        error_hidden_layer2 = d_output.dot(weights_hidden2_output.T)\n",
        "        d_hidden_layer2 = error_hidden_layer2 * sigmoid_derivative(hidden_layer2_output)\n",
        "\n",
        "        error_hidden_layer1 = d_hidden_layer2.dot(weights_hidden1_hidden2.T)\n",
        "        d_hidden_layer1 = error_hidden_layer1 * sigmoid_derivative(hidden_layer1_output)\n",
        "\n",
        "        # Updating weights and biases\n",
        "        weights_hidden2_output += hidden_layer2_output.T.dot(d_output) * learning_rate\n",
        "        bias_output += np.sum(d_output, axis=0, keepdims=True) * learning_rate\n",
        "        weights_hidden1_hidden2 += hidden_layer1_output.T.dot(d_hidden_layer2) * learning_rate\n",
        "        bias_hidden2 += np.sum(d_hidden_layer2, axis=0, keepdims=True) * learning_rate\n",
        "        weights_input_hidden1 += X.T.dot(d_hidden_layer1) * learning_rate\n",
        "        bias_hidden1 += np.sum(d_hidden_layer1, axis=0, keepdims=True) * learning_rate"
      ]
    },
    {
      "cell_type": "code",
      "execution_count": 6,
      "metadata": {
        "id": "MMqpsIqi_sgj"
      },
      "outputs": [],
      "source": [
        "X = np.array([[0, 0], [0, 1], [1, 0], [1, 1]])\n",
        "y = np.array([[0], [1], [1], [0]])\n",
        "\n",
        "# Training the neural network\n",
        "epochs = 10000\n",
        "learning_rate = 0.1\n",
        "train(X, y, epochs, learning_rate)"
      ]
    },
    {
      "cell_type": "code",
      "execution_count": 7,
      "metadata": {
        "id": "I3CGb9q9_x93"
      },
      "outputs": [],
      "source": [
        "def predict(X):\n",
        "    hidden_layer1_input = np.dot(X, weights_input_hidden1) + bias_hidden1\n",
        "    hidden_layer1_output = sigmoid(hidden_layer1_input)\n",
        "\n",
        "    hidden_layer2_input = np.dot(hidden_layer1_output, weights_hidden1_hidden2) + bias_hidden2\n",
        "    hidden_layer2_output = sigmoid(hidden_layer2_input)\n",
        "\n",
        "    output_layer_input = np.dot(hidden_layer2_output, weights_hidden2_output) + bias_output\n",
        "    output = sigmoid(output_layer_input)\n",
        "    return output"
      ]
    },
    {
      "cell_type": "code",
      "execution_count": 8,
      "metadata": {
        "colab": {
          "base_uri": "https://localhost:8080/"
        },
        "id": "TluaGh6HQWxv",
        "outputId": "94010d26-ad4f-467e-ce0b-d622bcea2526"
      },
      "outputs": [
        {
          "name": "stdout",
          "output_type": "stream",
          "text": [
            "Predictions:\n",
            "[[0.05894377]\n",
            " [0.05894377]\n",
            " [0.94089426]\n",
            " [0.06903048]]\n"
          ]
        }
      ],
      "source": [
        "Z = np.array([[0, 0], [0, 0], [1, 0], [1, 1]])\n",
        "\n",
        "print(\"Predictions:\")\n",
        "print(predict(Z))"
      ]
    }
  ],
  "metadata": {
    "colab": {
      "provenance": []
    },
    "kernelspec": {
      "display_name": "Python 3",
      "name": "python3"
    },
    "language_info": {
      "name": "python"
    }
  },
  "nbformat": 4,
  "nbformat_minor": 0
}
